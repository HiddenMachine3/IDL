{
 "cells": [
  {
   "cell_type": "code",
   "execution_count": 17,
   "metadata": {},
   "outputs": [],
   "source": [
    "import math\n",
    "import numpy as np"
   ]
  },
  {
   "cell_type": "markdown",
   "metadata": {},
   "source": [
    "Sigmoid function implementation"
   ]
  },
  {
   "cell_type": "code",
   "execution_count": 18,
   "metadata": {},
   "outputs": [],
   "source": [
    "def sigmoid(x):\n",
    "    return 1/(1 + math.exp(-x))"
   ]
  },
  {
   "cell_type": "code",
   "execution_count": 19,
   "metadata": {},
   "outputs": [
    {
     "name": "stdout",
     "output_type": "stream",
     "text": [
      "0.2689414213699951\n"
     ]
    }
   ],
   "source": [
    "print(sigmoid(-1))"
   ]
  },
  {
   "cell_type": "code",
   "execution_count": 20,
   "metadata": {},
   "outputs": [],
   "source": [
    "def np_sigmoid(arr):\n",
    "    return 1/(1+np.exp(-arr))"
   ]
  },
  {
   "cell_type": "code",
   "execution_count": 21,
   "metadata": {},
   "outputs": [
    {
     "data": {
      "text/plain": [
       "0.2689414213699951"
      ]
     },
     "execution_count": 21,
     "metadata": {},
     "output_type": "execute_result"
    }
   ],
   "source": [
    "np_sigmoid(-1)"
   ]
  },
  {
   "cell_type": "code",
   "execution_count": 22,
   "metadata": {},
   "outputs": [
    {
     "data": {
      "text/plain": [
       "array([0.73105858, 0.88079708, 0.95257413])"
      ]
     },
     "execution_count": 22,
     "metadata": {},
     "output_type": "execute_result"
    }
   ],
   "source": [
    "x = np.array([1, 2, 3])\n",
    "np_sigmoid(x)"
   ]
  },
  {
   "cell_type": "markdown",
   "metadata": {},
   "source": [
    "Gradient of the sigmoid function"
   ]
  },
  {
   "cell_type": "code",
   "execution_count": 23,
   "metadata": {},
   "outputs": [],
   "source": [
    "def gradient_sigmoid(x):\n",
    "    return np_sigmoid(x) * (1 - np_sigmoid(x))"
   ]
  },
  {
   "cell_type": "code",
   "execution_count": 24,
   "metadata": {},
   "outputs": [
    {
     "data": {
      "text/plain": [
       "array([0.19661193, 0.10499359, 0.04517666])"
      ]
     },
     "execution_count": 24,
     "metadata": {},
     "output_type": "execute_result"
    }
   ],
   "source": [
    "gradient_sigmoid(x)"
   ]
  },
  {
   "cell_type": "markdown",
   "metadata": {},
   "source": [
    "Function to reshape image"
   ]
  },
  {
   "cell_type": "code",
   "execution_count": 25,
   "metadata": {},
   "outputs": [],
   "source": [
    "def reshape_image(img):\n",
    "    new_image = img.reshape(img.shape[0] * img.shape[1] * img.shape[2],1 )\n",
    "    return new_image"
   ]
  },
  {
   "cell_type": "code",
   "execution_count": 26,
   "metadata": {},
   "outputs": [
    {
     "data": {
      "text/plain": [
       "(3, 3, 2)"
      ]
     },
     "execution_count": 26,
     "metadata": {},
     "output_type": "execute_result"
    }
   ],
   "source": [
    "image=np.array([[[0.5, 0.8],\n",
    "                 [0.5, 0.8],\n",
    "                 [0.5, 0.8]],\n",
    "\n",
    "                [[0.5, 0.8],\n",
    "                 [0.5, 0.8],\n",
    "                 [0.5, 0.8]],\n",
    "\n",
    "                [[0.5, 0.8],\n",
    "                 [0.5, 0.8],\n",
    "                 [0.5, 0.8]]])\n",
    "image.shape"
   ]
  },
  {
   "cell_type": "code",
   "execution_count": 27,
   "metadata": {},
   "outputs": [
    {
     "name": "stdout",
     "output_type": "stream",
     "text": [
      "original image :\n",
      "[[[0.5 0.8]\n",
      "  [0.5 0.8]\n",
      "  [0.5 0.8]]\n",
      "\n",
      " [[0.5 0.8]\n",
      "  [0.5 0.8]\n",
      "  [0.5 0.8]]\n",
      "\n",
      " [[0.5 0.8]\n",
      "  [0.5 0.8]\n",
      "  [0.5 0.8]]]\n",
      "reshaped image :\n",
      "[[0.5]\n",
      " [0.8]\n",
      " [0.5]\n",
      " [0.8]\n",
      " [0.5]\n",
      " [0.8]\n",
      " [0.5]\n",
      " [0.8]\n",
      " [0.5]\n",
      " [0.8]\n",
      " [0.5]\n",
      " [0.8]\n",
      " [0.5]\n",
      " [0.8]\n",
      " [0.5]\n",
      " [0.8]\n",
      " [0.5]\n",
      " [0.8]]\n"
     ]
    }
   ],
   "source": [
    "print(\"original image :\",image, sep=\"\\n\")\n",
    "reshaped = reshape_image(image)\n",
    "print(\"reshaped image :\",reshaped, sep=\"\\n\")"
   ]
  },
  {
   "cell_type": "markdown",
   "metadata": {},
   "source": [
    "A function to perform normalization on an np.array"
   ]
  },
  {
   "cell_type": "code",
   "execution_count": 28,
   "metadata": {},
   "outputs": [],
   "source": [
    "def normalised(x):\n",
    "    l2_norm = np.linalg.norm(x)\n",
    "\n",
    "    return x/l2_norm"
   ]
  },
  {
   "cell_type": "code",
   "execution_count": 29,
   "metadata": {},
   "outputs": [
    {
     "data": {
      "text/plain": [
       "array([[[0.17666631, 0.2826661 ],\n",
       "        [0.17666631, 0.2826661 ],\n",
       "        [0.17666631, 0.2826661 ]],\n",
       "\n",
       "       [[0.17666631, 0.2826661 ],\n",
       "        [0.17666631, 0.2826661 ],\n",
       "        [0.17666631, 0.2826661 ]],\n",
       "\n",
       "       [[0.17666631, 0.2826661 ],\n",
       "        [0.17666631, 0.2826661 ],\n",
       "        [0.17666631, 0.2826661 ]]])"
      ]
     },
     "execution_count": 29,
     "metadata": {},
     "output_type": "execute_result"
    }
   ],
   "source": [
    "normalised(image)"
   ]
  },
  {
   "cell_type": "markdown",
   "metadata": {},
   "source": [
    "A Softmax function implementation"
   ]
  },
  {
   "cell_type": "code",
   "execution_count": 30,
   "metadata": {},
   "outputs": [],
   "source": [
    "def softmax(x):\n",
    "    e_x = [np.e**i for i in x] # [a,b,c] -> [e^a, e^b, e^c]\n",
    "    return e_x/sum(e_x)"
   ]
  },
  {
   "cell_type": "code",
   "execution_count": 31,
   "metadata": {},
   "outputs": [],
   "source": [
    "x = np.array([1,3,8,9,0])"
   ]
  },
  {
   "cell_type": "code",
   "execution_count": 32,
   "metadata": {},
   "outputs": [
    {
     "data": {
      "text/plain": [
       "array([2.44717283e-04, 1.80822973e-03, 2.68365087e-01, 7.29491939e-01,\n",
       "       9.00264573e-05])"
      ]
     },
     "execution_count": 32,
     "metadata": {},
     "output_type": "execute_result"
    }
   ],
   "source": [
    "softmax(x)"
   ]
  },
  {
   "cell_type": "code",
   "execution_count": 33,
   "metadata": {},
   "outputs": [
    {
     "data": {
      "text/plain": [
       "1.0"
      ]
     },
     "execution_count": 33,
     "metadata": {},
     "output_type": "execute_result"
    }
   ],
   "source": [
    "# sum of probabilities is 1 as expected\n",
    "sum(softmax(x))"
   ]
  },
  {
   "cell_type": "markdown",
   "metadata": {},
   "source": [
    "Comparing execution time of custom dotproduct vs np.dot"
   ]
  },
  {
   "cell_type": "code",
   "execution_count": 34,
   "metadata": {},
   "outputs": [
    {
     "name": "stdout",
     "output_type": "stream",
     "text": [
      "Dot product : 1000000.0 Time taken : 0.38161540031433105\n",
      "Dot product : 1000000.0 Time taken : 0.0012059211730957031\n"
     ]
    }
   ],
   "source": [
    "import time\n",
    "\n",
    "x = np.ones(1000000)\n",
    "y = np.ones(1000000)\n",
    "\n",
    "def measure_time(func, *args):\n",
    "    start = time.time()\n",
    "    res = func(*args)\n",
    "    print(\"Dot product :\", res, \"Time taken :\", time.time() - start)\n",
    "\n",
    "def dot_product(x, y):\n",
    "    res = 0\n",
    "    for i in range(len(x)):\n",
    "        res += x[i] * y[i]\n",
    "    return res\n",
    "\n",
    "measure_time(dot_product, x, y)\n",
    "measure_time(np.dot, x, y)"
   ]
  },
  {
   "cell_type": "markdown",
   "metadata": {},
   "source": [
    "# Implementing L1 and L2 Norm"
   ]
  },
  {
   "cell_type": "code",
   "execution_count": 9,
   "metadata": {},
   "outputs": [],
   "source": [
    "def l1_loss(y,y_pred):\n",
    "\n",
    "    res = 0\n",
    "    for i in range(len(y)):\n",
    "        res += abs(y[i] - y_pred[i])\n",
    "    return res\n",
    "\n",
    "def l2_loss(y,y_pred):\n",
    "\n",
    "    res = 0\n",
    "    for i in range(len(y)):\n",
    "        res += abs(y[i] - y_pred[i])**2\n",
    "    return res"
   ]
  },
  {
   "cell_type": "code",
   "execution_count": 14,
   "metadata": {},
   "outputs": [
    {
     "name": "stdout",
     "output_type": "stream",
     "text": [
      "[1, 1, 1, 1, 1] [1, 1, 1, 1, 1] \n",
      "L1 loss : 0\n",
      "[1, 0.1, 6, 1, 3] [1, 21, 3, 1, 3] \n",
      "L1 loss : 23.9\n"
     ]
    }
   ],
   "source": [
    "import numpy as np\n",
    "y,y_pred = [1,1,1,1,1],[1,1,1,1,1]\n",
    "print(y,y_pred,\"\\nL1 loss :\", l1_loss(y,y_pred))\n",
    "y,y_pred = [1,.1,6,1,3],[1,21,3,1,3]\n",
    "print(y,y_pred,\"\\nL1 loss :\", l1_loss(y,y_pred))"
   ]
  },
  {
   "cell_type": "code",
   "execution_count": 16,
   "metadata": {},
   "outputs": [
    {
     "name": "stdout",
     "output_type": "stream",
     "text": [
      "[1, 1, 1, 1, 1] [1, 1, 1, 1, 1] \n",
      "L2 loss : 0\n",
      "[1, 0.1, 6, 1, 3] [1, 21, 3, 1, 3] \n",
      "L2 loss : 445.80999999999995\n"
     ]
    }
   ],
   "source": [
    "y,y_pred = [1,1,1,1,1],[1,1,1,1,1]\n",
    "print(y,y_pred,\"\\nL2 loss :\", l2_loss(y,y_pred))\n",
    "y,y_pred = [1,.1,6,1,3],[1,21,3,1,3]\n",
    "print(y,y_pred,\"\\nL2 loss :\", l2_loss(y,y_pred))"
   ]
  }
 ],
 "metadata": {
  "kernelspec": {
   "display_name": "Python 3 (ipykernel)",
   "language": "python",
   "name": "python3"
  },
  "language_info": {
   "codemirror_mode": {
    "name": "ipython",
    "version": 3
   },
   "file_extension": ".py",
   "mimetype": "text/x-python",
   "name": "python",
   "nbconvert_exporter": "python",
   "pygments_lexer": "ipython3",
   "version": "3.12.1"
  }
 },
 "nbformat": 4,
 "nbformat_minor": 4
}
